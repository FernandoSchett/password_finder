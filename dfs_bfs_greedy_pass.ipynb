{
  "cells": [
    {
      "cell_type": "markdown",
      "metadata": {
        "id": "iYFraMTG08a_"
      },
      "source": [
        "# Aprendizado por reforço"
      ]
    },
    {
      "cell_type": "markdown",
      "source": [
        "# Busca Não Informada: Quebrar Senhas.\n"
      ],
      "metadata": {
        "id": "J90qeMR8uPMK"
      }
    },
    {
      "cell_type": "markdown",
      "metadata": {
        "id": "3Ft8KCsBDwpu"
      },
      "source": [
        "**Objetivo:** Encontrar uma senha gerada aleatoriamente, com um número desconhecido de dígitos. Explorar como os algoritmos de busca não informada, incluindo a Busca em Profundidade (DFS), Busca em Largura (BFS) e Busca Gulosa, podem ser aplicados para resolver esse quebra-cabeça de senha.\n",
        "\n",
        "- **$m$** (Profundidade Máxima): Isso representa o comprimento máximo de qualquer caminho no espaço de estados.\n",
        "- **$b$** (Fator de Ramificação): Refere-se ao número máximo de sucessores que qualquer nó pode ter.\n",
        "- **$d$** (Profundidade do Objetivo): Indica o número de etapas do caminho da raiz até o estado objetivo mais próximo.\n",
        "Nomeclatura usada no relatório:\n",
        "\n",
        "Relação esperada para cada algoritmo:\n",
        "\n",
        "|       Método       |       Completeza       |     Otimização     |     Complexidade de Tempo     |     Complexidade de Espaço     |\n",
        "|:------------------:|:----------------------:|:-------------------:|:-----------------------------:|:-----------------------------:|\n",
        "|        BFS         |  Garante a resposta   |  Não é necessariamente ótimo, mas neste caso sim. |  $O(b^d)$                      |  $O(b^d)$                      |\n",
        "|        DFS         |  Garante a resposta   |  Não necessariamente, mas neste caso sim. |  $O(b^m)$                      |  $O(b \\cdot m)$                |\n",
        "|   Busca Gulosa     |  Não garante a resposta, mas neste caso sim.  |  Não necessariamente, mas neste caso sim.  |  -              |  -              |\n",
        "\n"
      ]
    },
    {
      "cell_type": "markdown",
      "source": [
        "**Espaço de Estados**: O espaço de estados desse problema é composto por todas as possíveis combinações de dígitos que podem formar a senha. Suponhamos que cada dígito da senha possa variar de 0 a 9, e que a senha tenha um número máximo de dígitos igual a $m$. Portanto, o espaço de estados consiste em todas as sequências possíveis de dígitos de comprimento variável, de 1 a $m$ dígitos.\n",
        "\n",
        "Por exemplo, se $m$ for igual a 4, o espaço de estados incluirá todas as sequências possíveis de dígitos, desde \"0\" até \"9999\", incluindo todas as combinações intermediárias, como \"123\", \"4567\" e assim por diante."
      ],
      "metadata": {
        "id": "EHP_OjC3iMjj"
      }
    },
    {
      "cell_type": "markdown",
      "source": [
        "**Funções de Transição:**\n",
        "\n",
        "As funções de transição determinam como podemos navegar no espaço de estados a partir de um estado atual. Para esse problema, as funções de transição são simples:\n",
        "\n",
        "DFS (Busca em Profundidade): A função de transição na Busca em Profundidade consiste em adicionar um dígito ao estado atual e explorar todas as possíveis combinações para o próximo dígito, seguindo o caminho em profundidade até encontrar a senha correta ou atingir a profundidade máxima $m$.\n",
        "\n",
        "BFS (Busca em Largura): A função de transição na Busca em Largura consiste em adicionar um dígito ao estado atual e explorar todas as possíveis combinações para o próximo dígito, seguindo o caminho em largura, ou seja, explorando primeiro todas as combinações de 1 dígito, depois todas as combinações de 2 dígitos e assim por diante.\n",
        "\n",
        "Busca Gulosa: A Busca Gulosa não possui uma função de transição específica como as outras abordagens, pois não explora todas as possíveis combinações. Em vez disso, a Busca Gulosa se baseia na similaridade da senha tentada com a original antes de prosseguir para o próximo nó.\n"
      ],
      "metadata": {
        "id": "a7SUccdUiQaI"
      }
    },
    {
      "cell_type": "markdown",
      "metadata": {
        "id": "PnpnhibTGXX3"
      },
      "source": [
        "### Biblioteca:\n"
      ]
    },
    {
      "cell_type": "code",
      "execution_count": null,
      "metadata": {
        "colab": {
          "base_uri": "https://localhost:8080/"
        },
        "id": "eguSNw_i65jh",
        "outputId": "8889f8de-f710-4b11-ba1c-e9966819c9ca"
      },
      "outputs": [
        {
          "output_type": "stream",
          "name": "stdout",
          "text": [
            "Overwriting search_pass.c\n"
          ]
        }
      ],
      "source": [
        "%%writefile search_pass.c\n",
        "#include \"search_pass.h\"\n",
        "#include <stdio.h>\n",
        "#include <string.h>\n",
        "#include <stdlib.h>\n",
        "\n",
        "unsigned long long int iteracoes = 0;\n",
        "unsigned long long int no_alocados = 0;\n",
        "\n",
        "void gen_senha(char *senha, int tamanho, int min, int max) {\n",
        "\n",
        "    if (min < MIN_ASCII_NUM) min = MIN_ASCII_NUM;\n",
        "    if (max > MAX_ASCII_NUM) max = MAX_ASCII_NUM;\n",
        "\n",
        "    for (int i = 0; i < TAMANHO_STRING; i++) {\n",
        "        int num = rand() % (max - min + 1) + min;\n",
        "        senha[i] = (char)num;\n",
        "    }\n",
        "    senha[TAMANHO_STRING] = '\\0';\n",
        "}\n",
        "\n",
        "int calcularCusto(char *senhaAlvo, int tamanho, char *tentativa) {\n",
        "    int custo = 0;\n",
        "    for (int i = 0; i < tamanho; i++) {\n",
        "      if(senhaAlvo[i] == tentativa[i]){\n",
        "        custo++;\n",
        "      }\n",
        "    }\n",
        "    return custo;\n",
        "}\n",
        "\n",
        "void reset_senha(char* senha, int value){\n",
        "    int cont = 0;\n",
        "    while(cont < TAMANHO_STRING){\n",
        "        senha[cont] = (char)value;\n",
        "        cont++;\n",
        "    }\n",
        "    senha[TAMANHO_STRING] = '\\0';\n",
        "}\n",
        "\n",
        "int gulosa_senha(char *senhaAlvo, char *melhorTentativa, int min, int max) {\n",
        "    int custoAtual, melhorCusto = 0;\n",
        "    char melhorCen;\n",
        "    int tamanho = strlen(senhaAlvo);\n",
        "    iteracoes = 0;\n",
        "    no_alocados = 0;\n",
        "\n",
        "    for (int i = 0; i < tamanho; i++) {\n",
        "        melhorCusto = 0;\n",
        "        iteracoes++;\n",
        "        no_alocados = i;\n",
        "        for (int num = min; num <= max; num++) {\n",
        "            melhorTentativa[i] = (char)num;\n",
        "            custoAtual = calcularCusto(senhaAlvo, i + 1, melhorTentativa);\n",
        "            iteracoes++;\n",
        "\n",
        "            if (custoAtual > melhorCusto) {\n",
        "                melhorCusto = custoAtual;\n",
        "                melhorCen = (char)num;\n",
        "            }\n",
        "        }\n",
        "        melhorTentativa[i] = melhorCen;\n",
        "    }\n",
        "    senhaAlvo[TAMANHO_STRING] = '\\0';\n",
        "    melhorTentativa[TAMANHO_STRING] = '\\0';\n",
        "    return (melhorCusto == tamanho);\n",
        "}\n",
        "\n",
        "int senha_DFS(char *senhaAlvo, char *tentativa, int index, int min, int max) {\n",
        "    iteracoes++;\n",
        "    no_alocados++;\n",
        "\n",
        "    if (index == TAMANHO_STRING) {\n",
        "        if (strcmp(senhaAlvo, tentativa) == 0) {\n",
        "            return 1;\n",
        "        }\n",
        "        no_alocados--;\n",
        "        return 0;\n",
        "    }\n",
        "\n",
        "    for (int num = min; num <= max; num++) {\n",
        "        tentativa[index] = (char)num;\n",
        "        if (senha_DFS(senhaAlvo, tentativa, index + 1, min, max)) {\n",
        "            return 1;\n",
        "        }\n",
        "    }\n",
        "\n",
        "    no_alocados--;\n",
        "    return 0;\n",
        "}\n",
        "\n",
        "\n",
        "int senha_BFS(char *senhaAlvo, char *tentativa, int min, int max) {\n",
        "    int level = 0;\n",
        "    int i, j;\n",
        "\n",
        "    while (level < TAMANHO_STRING) {\n",
        "        if (strcmp(senhaAlvo, tentativa) == 0) {\n",
        "            return 1;\n",
        "        }\n",
        "\n",
        "        tentativa[level]++;\n",
        "        if (tentativa[level] > max) {\n",
        "            tentativa[level] = (char)min;\n",
        "            for (j = level - 1; j >= 0; j--) {\n",
        "                tentativa[j]++;\n",
        "                if (tentativa[j] <= max) break;\n",
        "                tentativa[j] = (char)min;\n",
        "            }\n",
        "            if (j < 0) {\n",
        "                break;\n",
        "            }\n",
        "        }\n",
        "\n",
        "        if (level == TAMANHO_STRING - 1) {\n",
        "            for (i = level; i >= 0; i--) {\n",
        "                if (tentativa[i] < max) break;\n",
        "                tentativa[i] = (char)min;\n",
        "            }\n",
        "            level = i;\n",
        "        } else {\n",
        "            for (i = level + 1; i < TAMANHO_STRING; i++) {\n",
        "                tentativa[i] = (char)min;\n",
        "            }\n",
        "            level = TAMANHO_STRING - 1;\n",
        "        }\n",
        "    }\n",
        "\n",
        "    return 0;\n",
        "}"
      ]
    },
    {
      "cell_type": "markdown",
      "metadata": {
        "id": "wJOkiSqdGkh3"
      },
      "source": [
        "### Cabeçalho:\n"
      ]
    },
    {
      "cell_type": "code",
      "execution_count": null,
      "metadata": {
        "colab": {
          "base_uri": "https://localhost:8080/"
        },
        "id": "v81frXi2685f",
        "outputId": "0ab9f508-f373-4314-b34a-fd4dbb053411"
      },
      "outputs": [
        {
          "output_type": "stream",
          "name": "stdout",
          "text": [
            "Overwriting search_pass.h\n"
          ]
        }
      ],
      "source": [
        "%%writefile search_pass.h\n",
        "#ifndef SEARCH_PASS_H\n",
        "#define SEARCH_PASS_H\n",
        "\n",
        "#define TAMANHO_STRING 10\n",
        "#define MIN_ASCII_NUM 33\n",
        "#define MAX_ASCII_NUM 126\n",
        "\n",
        "extern unsigned long long int iteracoes;\n",
        "extern unsigned long long int no_alocados;\n",
        "\n",
        "void gen_senha(char *senha, int tamanho, int min, int max);\n",
        "int gulosa_senha(char *senhaAlvo, char *tentativa, int min, int max);\n",
        "int calcularCusto(char *senhaAlvo, int tamanho, char *tentativa);\n",
        "int senha_DFS(char *senhaAlvo, char *tentativa, int index, int min, int max);\n",
        "int senha_BFS(char *senhaAlvo, char *tentativa, int min, int max);\n",
        "void reset_senha(char* senha, int value);\n",
        "\n",
        "#endif"
      ]
    },
    {
      "cell_type": "markdown",
      "metadata": {
        "id": "YMMMAuZ8GmRT"
      },
      "source": [
        "### Main:"
      ]
    },
    {
      "cell_type": "code",
      "execution_count": null,
      "metadata": {
        "id": "F4Pl-0d_6_r3",
        "colab": {
          "base_uri": "https://localhost:8080/"
        },
        "outputId": "db6c2f76-4e3c-4cf1-ff2a-6f1d327b64e9"
      },
      "outputs": [
        {
          "output_type": "stream",
          "name": "stdout",
          "text": [
            "Overwriting main.c\n"
          ]
        }
      ],
      "source": [
        "%%writefile main.c\n",
        "#include \"search_pass.h\"\n",
        "#include <stdio.h>\n",
        "#include <string.h>\n",
        "#include <stdlib.h>\n",
        "#include <time.h>\n",
        "\n",
        "int main(int argc, char *argv[]) {\n",
        "    srand(time(NULL));\n",
        "\n",
        "    char senha_target[TAMANHO_STRING + 1];\n",
        "    char senha_encontrada[TAMANHO_STRING + 1];\n",
        "\n",
        "    int min = argv[1][0];\n",
        "    int max = argv[2][0];\n",
        "    clock_t  time_inicio, time_fim;\n",
        "    double tempo_execucao;\n",
        "\n",
        "    gen_senha(senha_target, TAMANHO_STRING, min, max);\n",
        "    printf(\"Senha alvo: %s\\n\", senha_target);\n",
        "\n",
        "    reset_senha(senha_encontrada, min);\n",
        "    time_inicio = clock();\n",
        "    senha_DFS(senha_target, senha_encontrada, 0, min, max);\n",
        "    time_fim = clock();\n",
        "    tempo_execucao = (double)(time_fim - time_inicio) / CLOCKS_PER_SEC;\n",
        "\n",
        "    printf(\"Senha encontrada: %s\\n\", senha_encontrada);\n",
        "    printf(\"Número total de espaços explorados: %llu\\n\", iteracoes);\n",
        "    printf(\"Tempo de execução: %lf segundos\\n\", tempo_execucao);\n",
        "\n",
        "    reset_senha(senha_encontrada, min);\n",
        "    senha_encontrada[TAMANHO_STRING] = '\\0';\n",
        "    time_inicio = clock();\n",
        "    senha_BFS(senha_target, senha_encontrada, min, max);\n",
        "    time_fim = clock();\n",
        "    tempo_execucao = (double)(time_fim - time_inicio) / CLOCKS_PER_SEC;\n",
        "\n",
        "    printf(\"Senha encontrada: %s\\n\", senha_encontrada);\n",
        "    printf(\"Número total de espaços explorados: %llu\\n\", iteracoes);\n",
        "    printf(\"Tempo de execução: %lf segundos\\n\", tempo_execucao);\n",
        "\n",
        "    reset_senha(senha_encontrada, min);\n",
        "    time_inicio = clock();\n",
        "    gulosa_senha(senha_target, senha_encontrada, min, max);\n",
        "    time_fim = clock();\n",
        "    tempo_execucao = (double)(time_fim - time_inicio) / CLOCKS_PER_SEC;\n",
        "\n",
        "    printf(\"Senha encontrada: %s\\n\", senha_encontrada);\n",
        "    printf(\"Número total de espaços explorados: %llu\\n\", iteracoes);\n",
        "    printf(\"Tempo de execução: %lf segundos\\n\", tempo_execucao);\n",
        "\n",
        "    return 0;\n",
        "}"
      ]
    },
    {
      "cell_type": "code",
      "execution_count": null,
      "metadata": {
        "colab": {
          "base_uri": "https://localhost:8080/"
        },
        "id": "weRGyP6N7J-T",
        "outputId": "d7ae6470-bb2c-4510-c9de-cf957cce244a"
      },
      "outputs": [
        {
          "output_type": "stream",
          "name": "stdout",
          "text": [
            "Senha alvo: BBBAAAAAAA\n",
            "Senha encontrada: BBBAAAAAAA\n",
            "Número total de espaços explorados: 1800\n",
            "Tempo de execução: 0.000026 segundos\n",
            "Senha encontrada: BBBAAAAAAA\n",
            "Número total de espaços explorados: 1800\n",
            "Tempo de execução: 0.000009 segundos\n",
            "Senha encontrada: BBBAAAAAAA\n",
            "Número total de espaços explorados: 30\n",
            "Tempo de execução: 0.000002 segundos\n"
          ]
        }
      ],
      "source": [
        "!gcc -o procura_senhas main.c search_pass.c\n",
        "!./procura_senhas A B"
      ]
    },
    {
      "cell_type": "markdown",
      "metadata": {
        "id": "Sfrq_RsbGvjb"
      },
      "source": [
        "### Script:"
      ]
    },
    {
      "cell_type": "code",
      "source": [],
      "metadata": {
        "id": "b0xxlFn1hCCw"
      },
      "execution_count": null,
      "outputs": []
    },
    {
      "cell_type": "markdown",
      "metadata": {
        "id": "plhr0nocGpWw"
      },
      "source": [
        "### MakeFile:"
      ]
    },
    {
      "cell_type": "code",
      "source": [],
      "metadata": {
        "id": "b1N4o8sasDe6"
      },
      "execution_count": null,
      "outputs": []
    },
    {
      "cell_type": "markdown",
      "metadata": {
        "id": "7vU9ueWhGsg3"
      },
      "source": [
        "## Comparação e Resultados:\n"
      ]
    },
    {
      "cell_type": "markdown",
      "source": [
        "### Tempo de execução:"
      ],
      "metadata": {
        "id": "IjD41LftsLX2"
      }
    },
    {
      "cell_type": "markdown",
      "source": [
        "### Uso de memória:"
      ],
      "metadata": {
        "id": "rPd3Kqy_sE0g"
      }
    },
    {
      "cell_type": "markdown",
      "source": [
        "### Nós explorados"
      ],
      "metadata": {
        "id": "wMDJZBbNsNt4"
      }
    },
    {
      "cell_type": "markdown",
      "metadata": {
        "id": "3XAV6Gu25wUB"
      },
      "source": [
        "# References:"
      ]
    },
    {
      "cell_type": "code",
      "source": [
        "!gcc -g -o password_breaker password_breaker_busca_gulosa.c -o password_breaker_busca_gulosa\n",
        "!valgrind --tool=massif ./password_breaker_busca_gulosa\n",
        "!ms_print massif.out.xxxxx"
      ],
      "metadata": {
        "id": "ZCW-HThgqd3P"
      },
      "execution_count": null,
      "outputs": []
    }
  ],
  "metadata": {
    "colab": {
      "provenance": []
    },
    "kernelspec": {
      "display_name": "Python 3",
      "name": "python3"
    },
    "language_info": {
      "name": "python"
    }
  },
  "nbformat": 4,
  "nbformat_minor": 0
}